{
 "cells": [
  {
   "cell_type": "code",
   "execution_count": 44,
   "id": "trained-tulsa",
   "metadata": {},
   "outputs": [],
   "source": [
    "from sklearn.feature_extraction.text import TfidfVectorizer\n",
    "import torch.nn as nn\n",
    "import random\n",
    "import torch.nn.functional as F\n",
    "import pandas as pd\n",
    "import spacy\n",
    "import torch.optim as optim\n",
    "import numpy as np\n",
    "import scipy\n",
    "import torch\n",
    "from collections import defaultdict\n",
    "from collections import Counter\n",
    "from transformers import AdamW\n",
    "from sklearn.model_selection import train_test_split\n",
    "from sklearn.metrics import accuracy_score\n",
    "from sklearn.metrics import confusion_matrix\n",
    "from sklearn.metrics import confusion_matrix, ConfusionMatrixDisplay\n",
    "import matplotlib.pyplot as plt\n",
    "import time"
   ]
  },
  {
   "cell_type": "code",
   "execution_count": 3,
   "id": "compliant-yorkshire",
   "metadata": {},
   "outputs": [],
   "source": [
    "#load data and spacy\n",
    "df = pd.read_csv('IMDB_Dataset.csv')\n",
    "nlp = spacy.load(\"en_core_web_sm\")\n",
    "\n",
    "# BINARY not text\n",
    "for i, row in df.iterrows():\n",
    "    if row[\"sentiment\"] == \"positive\":\n",
    "        df.at[i,'sentiment'] = 1\n",
    "    else:\n",
    "        df.at[i,'sentiment'] = 0"
   ]
  },
  {
   "cell_type": "code",
   "execution_count": null,
   "id": "naval-spanking",
   "metadata": {},
   "outputs": [],
   "source": [
    "def sent_hist():\n",
    "    explore_data = list()\n",
    "    for i,rev in enumerate(df.sample(n = 50000, replace = False)[\"review\"]):\n",
    "        if i % 500 == 0:\n",
    "            print(i)\n",
    "        sents = list()\n",
    "        doc=nlp(rev, disable = [\"ner\", \"tagger\"])\n",
    "        for j,sent in enumerate(doc.sents):\n",
    "            sents.append(sent)\n",
    "        explore_data.append(sents)\n",
    "    lengths = list()\n",
    "    for l in explore_data:\n",
    "        lengths.append(len(l))\n",
    "    lengths\n",
    "    plt.hist(lengths, range=(0,50), bins=25)\n",
    "    plt.show()\n"
   ]
  },
  {
   "cell_type": "code",
   "execution_count": 4,
   "id": "assigned-morrison",
   "metadata": {},
   "outputs": [
    {
     "name": "stdout",
     "output_type": "stream",
     "text": [
      "0\n",
      "10000\n",
      "20000\n",
      "30000\n",
      "40000\n"
     ]
    }
   ],
   "source": [
    "def create_train():\n",
    "    train_mini = list()\n",
    "    for i,rev in enumerate(df[\"review\"]):\n",
    "        if i % 10000 == 0:\n",
    "            print(i)\n",
    "        sents = list()\n",
    "        doc=nlp(rev, disable = [\"ner\", \"tagger\"])\n",
    "        for j,sent in enumerate(doc.sents):\n",
    "            if j == 15: # avg length of sents\n",
    "                break\n",
    "            sents.append(str(sent))\n",
    "        train_mini.append(sents)\n",
    "    return train_mini\n",
    "tm = create_train()"
   ]
  },
  {
   "cell_type": "code",
   "execution_count": 5,
   "id": "alternate-program",
   "metadata": {},
   "outputs": [],
   "source": [
    "def clean(data):\n",
    "    clean_data = list()\n",
    "    for review in data:\n",
    "        clean_sents = list()\n",
    "        for sent in review:\n",
    "            doc = nlp(sent, disable = [\"ner\", \"parser\", \"tagger\"])\n",
    "            tokens = list()\n",
    "            for token in doc:\n",
    "                if token.is_alpha and not token.is_stop and len(token.text) > 2:\n",
    "                    tokens.append(token.lemma_.lower())\n",
    "            if len(tokens) > 0:\n",
    "                clean_sents.append(\" \".join(tokens)) \n",
    "        clean_data.append(clean_sents)\n",
    "    return clean_data\n",
    "clean = clean(tm)"
   ]
  },
  {
   "cell_type": "code",
   "execution_count": null,
   "id": "welsh-journal",
   "metadata": {},
   "outputs": [],
   "source": [
    "def freq_dist(text):\n",
    "    all_words = list()\n",
    "    for rev in clean:\n",
    "        for sent in rev:\n",
    "            for word in sent.split(\" \"):\n",
    "                all_words.append(word)\n",
    "    freq = Counter(all_words)\n",
    "    words = freq.most_common(len(all_words))\n",
    "    freq_axis = list()\n",
    "    for word, freq in words:\n",
    "        freq_axis.append(freq)\n",
    "    x = np.arange(0, len(freq_axis), 1)\n",
    "    plt.xlim(0,15000)\n",
    "    plt.ylim(0,800)\n",
    "    plt.plot(x, freq_axis)\n",
    "    plt.show()\n",
    "freq_dist(clean)"
   ]
  },
  {
   "cell_type": "code",
   "execution_count": 6,
   "id": "strategic-robertson",
   "metadata": {},
   "outputs": [],
   "source": [
    "def make_voc(data, max_size = 10000):\n",
    "    vocab = defaultdict(int)\n",
    "    vocab[\"<pad>\"] = 0\n",
    "    all_words = list()\n",
    "    word_id = 1\n",
    "    for rev in data:\n",
    "        for word in \" \".join(rev).split(\" \"):\n",
    "            all_words.append(word)\n",
    "    freq = Counter(all_words)\n",
    "    words = freq.most_common(max_size - len(vocab))\n",
    "    word_id = 1\n",
    "    for word,freq in words:\n",
    "        vocab[word] += word_id\n",
    "        word_id += 1\n",
    "    return vocab"
   ]
  },
  {
   "cell_type": "code",
   "execution_count": 7,
   "id": "wound-moore",
   "metadata": {},
   "outputs": [],
   "source": [
    "vocab_freq = make_voc(clean)\n"
   ]
  },
  {
   "cell_type": "code",
   "execution_count": 8,
   "id": "wicked-bundle",
   "metadata": {},
   "outputs": [],
   "source": [
    "def prepare_sequence(seq, vocab):\n",
    "    idxs = [vocab[w] if w in vocab else 0 for w in seq]\n",
    "    return torch.tensor(idxs, dtype=torch.long)"
   ]
  },
  {
   "cell_type": "code",
   "execution_count": 11,
   "id": "violent-chrome",
   "metadata": {},
   "outputs": [],
   "source": [
    "def prep_train(data):\n",
    "    train = list()\n",
    "    for rev in data:\n",
    "        sents = list()\n",
    "        for sent in rev:\n",
    "            sents.append(prepare_sequence(sent.split(\" \"), vocab_freq))\n",
    "        train.append(sents)\n",
    "    return train"
   ]
  },
  {
   "cell_type": "code",
   "execution_count": 12,
   "id": "conservative-wonder",
   "metadata": {},
   "outputs": [],
   "source": [
    "#not mini anymore\n",
    "\n",
    "train_mini = prep_train(clean)\n",
    "sent_mini = np.array(df[\"sentiment\"], dtype=np.int64)"
   ]
  },
  {
   "cell_type": "code",
   "execution_count": 13,
   "id": "inappropriate-activity",
   "metadata": {},
   "outputs": [],
   "source": [
    "class lstm_vectorizer(nn.Module):\n",
    "\n",
    "    def __init__(self, embedding_dim=512, hidden_dim=256, vocab_size=10000):\n",
    "        super(lstm_vectorizer, self).__init__()\n",
    "        self.hidden_dim = hidden_dim\n",
    "\n",
    "        self.word_embeddings = nn.Embedding(vocab_size, embedding_dim)\n",
    "\n",
    "        # The LSTM takes word embeddings as inputs, and outputs hidden states\n",
    "        # with dimensionality hidden_dim.\n",
    "        self.lstm = nn.LSTM(embedding_dim, hidden_dim, num_layers = 2, bidirectional = True)\n",
    "\n",
    "\n",
    "    def forward(self, sentence):\n",
    "        embeds = self.word_embeddings(sentence)\n",
    "        \n",
    "        embeds = embeds.to(\"cuda\")\n",
    "\n",
    "        lstm_out, _ = self.lstm(embeds.view(len(sentence), 1, -1))\n",
    "        \n",
    "        lstm_out = lstm_out.to(\"cuda\")\n",
    "        \n",
    "        #hidden = self.hidden(lstm_out)\n",
    "        return torch.mean(lstm_out.squeeze(1), axis=0) # torch.mean(hidden, axis=0)\n",
    "    "
   ]
  },
  {
   "cell_type": "code",
   "execution_count": 20,
   "id": "leading-genealogy",
   "metadata": {},
   "outputs": [],
   "source": [
    "class MLP(nn.Module): \n",
    "    def __init__(self, embdim = 512, hidden_unit = 128, output_dim = 2):\n",
    "        super().__init__()\n",
    "        self.hidden = nn.Linear(15 * embdim, hidden_unit) #hidden_unit\n",
    "        self.activate = nn.ReLU()\n",
    "        self.output = nn.Linear(hidden_unit, output_dim)\n",
    "\n",
    "    def forward(self, features):\n",
    "        hn = self.hidden(features)\n",
    "        act = self.activate(hn)\n",
    "        out = self.output(act) \n",
    "        \n",
    "        return out  "
   ]
  },
  {
   "cell_type": "code",
   "execution_count": 66,
   "id": "owned-services",
   "metadata": {},
   "outputs": [],
   "source": [
    "class net(nn.Module):\n",
    "    def __init__(self):\n",
    "        super().__init__()\n",
    "        self.lstm = lstm_vectorizer()\n",
    "        self.mlp = MLP()\n",
    "\n",
    "    def forward(self, review):\n",
    "        #need 10 outputs concat\n",
    "        lstm_vector = [self.lstm.forward(sent.to(\"cuda\")) for sent in review]\n",
    "        #print(lstm_vector[0].shape)\n",
    "        lstm_vector.extend([torch.FloatTensor(512 *[0]).to(\"cuda\")] * (15 - len(lstm_vector))) # padding\n",
    "        input_mlp = torch.cat(lstm_vector).to(\"cuda\")\n",
    "        input_mlp = input_mlp.to(\"cuda\")\n",
    "        output_mlp = self.mlp.forward(input_mlp)\n",
    "        output_mlp = output_mlp.to(\"cuda\")\n",
    "        return output_mlp\n",
    "\n",
    "net = net()"
   ]
  },
  {
   "cell_type": "code",
   "execution_count": 67,
   "id": "short-enclosure",
   "metadata": {},
   "outputs": [],
   "source": [
    "def train_net(model, revs, sents):\n",
    "    loss_function = nn.NLLLoss()\n",
    "    optimizer = AdamW(model.parameters(), lr=1e-3)\n",
    "    m = nn.LogSoftmax(dim=1)\n",
    "    \n",
    "    for epoch in range(1):\n",
    "        p = 0\n",
    "        for i, rev in enumerate(revs[:10000]):\n",
    "            # Step 1. Remember that Pytorch accumulates gradients.\n",
    "            # We need to clear them out before each instance\n",
    "            model.zero_grad()\n",
    "\n",
    "            # Step 2. Get our inputs ready for the network, that is, turn them into\n",
    "            # Tensors of word indices.\n",
    "            \n",
    "            target = torch.tensor([sents[i]])\n",
    "            target = target.to(\"cuda\")\n",
    "\n",
    "            # Step 3. Run our forward pass.\n",
    "            forward = model(rev)\n",
    "            forward = forward.to(\"cuda\")\n",
    "            \n",
    "            # Step 4. Compute the loss, gradients, and update the parameters by\n",
    "            #  calling optimizer.step()\n",
    "            loss = loss_function(m(forward.unsqueeze(0)), target)\n",
    "            loss.backward()\n",
    "            optimizer.step()\n",
    "            if i % 500 == 0:\n",
    "                p+=10\n",
    "                print(\"loss:\", loss.item())\n",
    "                print(p,\"% ...\")"
   ]
  },
  {
   "cell_type": "code",
   "execution_count": 68,
   "id": "liberal-anderson",
   "metadata": {},
   "outputs": [
    {
     "name": "stdout",
     "output_type": "stream",
     "text": [
      "loss: 0.6548235416412354\n",
      "10 % ...\n",
      "loss: 0.6614212989807129\n",
      "20 % ...\n",
      "loss: 0.054835811257362366\n",
      "30 % ...\n",
      "loss: 0.0024085817858576775\n",
      "40 % ...\n",
      "loss: 0.469472199678421\n",
      "50 % ...\n",
      "loss: 0.12319814413785934\n",
      "60 % ...\n",
      "loss: 0.007120352238416672\n",
      "70 % ...\n",
      "loss: 0.16713280975818634\n",
      "80 % ...\n",
      "loss: 0.8927990198135376\n",
      "90 % ...\n",
      "loss: 0.025480687618255615\n",
      "100 % ...\n",
      "loss: 0.21253739297389984\n",
      "110 % ...\n",
      "loss: 0.03808215260505676\n",
      "120 % ...\n",
      "loss: 0.02404201775789261\n",
      "130 % ...\n",
      "loss: 0.2340904325246811\n",
      "140 % ...\n",
      "loss: 2.6940935640595853e-05\n",
      "150 % ...\n",
      "loss: 0.015620498917996883\n",
      "160 % ...\n",
      "loss: 0.04955741763114929\n",
      "170 % ...\n",
      "loss: 0.7524333596229553\n",
      "180 % ...\n",
      "loss: 0.16573046147823334\n",
      "190 % ...\n",
      "loss: 0.06546764075756073\n",
      "200 % ...\n",
      "399.14\n"
     ]
    }
   ],
   "source": [
    "net = net.to(\"cuda\")\n",
    "start_net = time.time()\n",
    "train_net(net, train_mini, sent_mini)\n",
    "stop_net = \"{:.2f}\".format(time.time() - start_net)\n",
    "print(stop_net)"
   ]
  },
  {
   "cell_type": "code",
   "execution_count": 63,
   "id": "legendary-stretch",
   "metadata": {},
   "outputs": [
    {
     "data": {
      "text/plain": [
       "0.854"
      ]
     },
     "execution_count": 63,
     "metadata": {},
     "output_type": "execute_result"
    },
    {
     "data": {
      "image/png": "[encoded data removed]",
      "text/plain": [
       "<Figure size 432x288 with 2 Axes>"
      ]
     },
     "metadata": {
      "needs_background": "light"
     },
     "output_type": "display_data"
    }
   ],
   "source": [
    "preds = list()\n",
    "#sample from two different \n",
    "for rev in train_mini[-500:]:\n",
    "    with torch.no_grad():\n",
    "        scores = net(rev)\n",
    "        probs = torch.exp(scores)\n",
    "        preds.append(torch.argmax(probs.unsqueeze(0), dim=1)[0].item())\n",
    "\n",
    "golds = sent_mini[-500:]\n",
    "golds = golds.astype(int)\n",
    "accuracy_score(golds, preds)\n",
    "cm = confusion_matrix(golds, preds)\n",
    "disp = ConfusionMatrixDisplay(confusion_matrix=cm, display_labels=[0,1])\n",
    "disp.plot()\n",
    "accuracy_score(golds, preds)"
   ]
  },
  {
   "cell_type": "markdown",
   "id": "strategic-southwest",
   "metadata": {},
   "source": [
    "### LSTM  "
   ]
  },
  {
   "cell_type": "code",
   "execution_count": 3,
   "id": "aquatic-interstate",
   "metadata": {},
   "outputs": [
    {
     "name": "stdout",
     "output_type": "stream",
     "text": [
      "0\n",
      "10000\n",
      "20000\n",
      "30000\n",
      "40000\n"
     ]
    }
   ],
   "source": [
    "#some cleaning\n",
    "\n",
    "for i, row in df.iterrows():\n",
    "    if i % 10000 == 0:\n",
    "        print(i)\n",
    "    doc = nlp(row[\"review\"], disable = [\"ner\", \"parser\", \"tagger\"])\n",
    "    rev = list()\n",
    "    for token in doc:\n",
    "        if token.is_alpha and not token.is_stop and len(token.text) > 2:\n",
    "            rev.append(token.lemma_.lower())\n",
    "    df.at[i,\"review\"] = \" \".join(rev)\n",
    "            \n",
    "        \n",
    "    "
   ]
  },
  {
   "cell_type": "code",
   "execution_count": 4,
   "id": "rough-dylan",
   "metadata": {
    "scrolled": true
   },
   "outputs": [
    {
     "name": "stdout",
     "output_type": "stream",
     "text": [
      "defaultdict(<class 'int'>, {'<unk>': 0})\n",
      "0\n",
      "10000\n",
      "20000\n",
      "30000\n",
      "40000\n",
      "9999\n"
     ]
    }
   ],
   "source": [
    "def make_vocab(df, max_size = 10000):\n",
    "    vocab = defaultdict(int)\n",
    "    vocab[\"<unk>\"] = 0\n",
    "    print(vocab)\n",
    "    # do counter\n",
    "    #get most common\n",
    "    #put in dict. \n",
    "    all_words = list()\n",
    "    word_id = 1\n",
    "    for i, row in df.iterrows():\n",
    "        if i % 10000 == 0:\n",
    "            print(i)\n",
    "        for word in row[\"review\"].split(\" \"):\n",
    "            all_words.append(word)\n",
    "    freq = Counter(all_words)\n",
    "    words = freq.most_common(max_size - len(vocab))\n",
    "    print(len(words))\n",
    "    word_id = 1\n",
    "    for word,freq in words:\n",
    "        vocab[word] += word_id\n",
    "        word_id += 1\n",
    "    return vocab\n",
    "vocab = make_vocab(df)"
   ]
  },
  {
   "cell_type": "code",
   "execution_count": 5,
   "id": "boolean-finding",
   "metadata": {},
   "outputs": [],
   "source": [
    "def prepare_sequence(seq, vocab):\n",
    "    idxs = [vocab[w] if w in vocab else 0 for w in seq]\n",
    "    return torch.tensor(idxs, dtype=torch.long)\n"
   ]
  },
  {
   "cell_type": "markdown",
   "id": "limited-covering",
   "metadata": {},
   "source": [
    "#### prep training data and class"
   ]
  },
  {
   "cell_type": "code",
   "execution_count": 6,
   "id": "random-worst",
   "metadata": {},
   "outputs": [],
   "source": [
    "train_rev = list()\n",
    "word_sents = list()\n",
    "for i, rev in enumerate(df[\"review\"].to_numpy()):\n",
    "    word_sents.append(rev.split(\" \")) # for lr\n",
    "    train_rev.append(prepare_sequence(rev.split(\" \"), vocab)) # for lstm\n",
    "train_sent = df[\"sentiment\"].to_numpy()\n"
   ]
  },
  {
   "cell_type": "code",
   "execution_count": 80,
   "id": "useful-impact",
   "metadata": {},
   "outputs": [],
   "source": [
    "class LSTMclassifier(nn.Module):\n",
    "\n",
    "    def __init__(self, embedding_dim = 256, hidden_dim = 100, vocab_size = 10000):\n",
    "        super(LSTMclassifier, self).__init__()\n",
    "        self.hidden_dim = hidden_dim\n",
    "        self.word_embeddings = nn.Embedding(vocab_size, embedding_dim)\n",
    "        self.lstm = nn.LSTM(embedding_dim, hidden_dim, num_layers = 2, bidirectional = True)\n",
    "        self.out = nn.Linear(2 * hidden_dim, 2)\n",
    "\n",
    "    def forward(self, sentence):\n",
    "        embeds = self.word_embeddings(sentence)\n",
    "        embeds = embeds.to(\"cuda\")\n",
    "        lstm_out, _ = self.lstm(embeds.view(len(sentence), 1, -1))\n",
    "        lstm_out = lstm_out.to(\"cuda\")\n",
    "        out = self.out(lstm_out) #lstm_out[-1]\n",
    "        out = torch.mean(out, axis=0)\n",
    "        out = out.to(\"cuda\")\n",
    "        return out"
   ]
  },
  {
   "cell_type": "code",
   "execution_count": 88,
   "id": "technical-climb",
   "metadata": {},
   "outputs": [],
   "source": [
    "def train_lstm(model, revs, sents):\n",
    "    loss_function = nn.NLLLoss()\n",
    "    optimizer = AdamW(model.parameters(), lr=1e-3)\n",
    "    m = nn.LogSoftmax(dim=1)\n",
    "\n",
    "    for epoch in range(2):  # again, normally you would NOT do 300 epochs, it is toy data\n",
    "        p = 0\n",
    "        for i, rev in enumerate(revs):\n",
    "            # Step 1. Remember that Pytorch accumulates gradients.\n",
    "            # We need to clear them out before each instance\n",
    "            model.zero_grad()\n",
    "\n",
    "            # Step 2. Get our inputs ready for the network, that is, turn them into\n",
    "            # Tensors of word indices.\n",
    "\n",
    "            target = torch.tensor([sents[i]])\n",
    "            target = target.to(\"cuda\")\n",
    "            rev = rev.to(\"cuda\")\n",
    "            # Step 3. Run our forward pass.\n",
    "            predict = model(rev)\n",
    "            \n",
    "            # Step 4. Compute the loss, gradients, and update the parameters by\n",
    "            #  calling optimizer.step()\n",
    "            loss = loss_function(m(predict), target)\n",
    "            loss.backward()\n",
    "            optimizer.step()\n",
    "            if i % 100 == 0:\n",
    "                p+=1\n",
    "                #print(\"loss:\", loss.item())\n",
    "                #print(p,\"% ...\")\n",
    "    return model\n",
    "#train_lstm(lstm, train_rev, train_sent)"
   ]
  },
  {
   "cell_type": "code",
   "execution_count": null,
   "id": "neither-brisbane",
   "metadata": {},
   "outputs": [],
   "source": [
    "m = nn.LogSoftmax(dim=1)\n",
    "beg = 20000\n",
    "end = 20500\n",
    "preds = list()\n",
    "for rev in train_rev[beg:end]:\n",
    "    with torch.no_grad():\n",
    "        first = train_rev[2]\n",
    "        rev = rev.to(\"cuda\")\n",
    "        scores = lstm(rev)\n",
    "        probs = torch.exp(m(scores))\n",
    "        preds.append(torch.argmax(probs, dim=1)[0].item())\n",
    "\n",
    "        \n",
    "golds = train_sent[beg:end]\n",
    "golds = golds.astype(int)\n",
    "accuracy_score(golds, preds)\n",
    "cm = confusion_matrix(golds, preds)\n",
    "disp = ConfusionMatrixDisplay(confusion_matrix=cm, display_labels=[0,1])\n",
    "disp.plot()\n",
    "accuracy_score(golds, preds)\n",
    "    "
   ]
  },
  {
   "cell_type": "markdown",
   "id": "electronic-eleven",
   "metadata": {},
   "source": [
    "### Baseline model logistic regression"
   ]
  },
  {
   "cell_type": "code",
   "execution_count": 43,
   "id": "registered-cloud",
   "metadata": {},
   "outputs": [],
   "source": [
    "# tfidf\n",
    "corpus = list(df[\"review\"])\n",
    "vectorizer = TfidfVectorizer()\n",
    "X = vectorizer.fit_transform(corpus)\n",
    "X_tf_train = torch.tensor(scipy.sparse.csr_matrix.todense(X[:26000])).float()"
   ]
  },
  {
   "cell_type": "code",
   "execution_count": 44,
   "id": "starting-study",
   "metadata": {},
   "outputs": [],
   "source": [
    "X = X_tf_train"
   ]
  },
  {
   "cell_type": "code",
   "execution_count": 7,
   "id": "normal-investor",
   "metadata": {},
   "outputs": [],
   "source": [
    "# bow \n",
    "def make_bow_vector(sentence, vocab):\n",
    "    vec = torch.zeros(len(vocab))\n",
    "    for word in sentence:\n",
    "        if word in vocab:\n",
    "            vec[vocab[word]] += 1\n",
    "        else:\n",
    "            vec[0] += 1\n",
    "    return vec.view(1, -1)"
   ]
  },
  {
   "cell_type": "code",
   "execution_count": 8,
   "id": "clean-locator",
   "metadata": {},
   "outputs": [],
   "source": [
    "class lr(nn.Module): \n",
    "\n",
    "    def __init__(self, num_labels, vocab_size):\n",
    "\n",
    "        super(lr, self).__init__()\n",
    "\n",
    "\n",
    "        self.linear = nn.Linear(vocab_size, num_labels)\n",
    "\n",
    "    def forward(self, rev):\n",
    "\n",
    "        out = self.linear(rev)\n",
    "        out = out.to(\"cuda\")\n",
    "        return out\n",
    "#lr = lr(2, len(vocab))\n",
    "#lr = lr(2, 84183)\n",
    "#lr = lr.to(\"cuda\")"
   ]
  },
  {
   "cell_type": "code",
   "execution_count": 55,
   "id": "alike-candy",
   "metadata": {},
   "outputs": [],
   "source": [
    "def train_lr_tf(model, word_sents, sentiment):\n",
    "    m = nn.LogSoftmax(dim=1)\n",
    "    loss_function = nn.NLLLoss()\n",
    "    optimizer = optim.SGD(model.parameters(), lr=0.1)\n",
    "    p = 0\n",
    "    for epoch in range(2):  \n",
    "        for i, rev in enumerate(word_sents):\n",
    "            # Step 1. Remember that Pytorch accumulates gradients.\n",
    "            # We need to clear them out before each instance\n",
    "            model.zero_grad()\n",
    "            rev = rev.to(\"cuda\")\n",
    "            target = torch.tensor([sentiment[i]])\n",
    "            target = target.to(\"cuda\")\n",
    "            predict = model(rev) \n",
    "            loss = loss_function(m(predict.unsqueeze(0)), target)\n",
    "            loss.backward()\n",
    "            optimizer.step()\n",
    "            if i % 2450 == 0:\n",
    "                p+=10\n",
    "                #print(\"loss:\", loss.item())\n",
    "                #print(p,\"% ...\")\n",
    "        return model"
   ]
  },
  {
   "cell_type": "code",
   "execution_count": 41,
   "id": "modular-password",
   "metadata": {},
   "outputs": [],
   "source": [
    "def train_lr_bow(model, train, sentiment, vocab):\n",
    "    m = nn.LogSoftmax(dim=1)\n",
    "    loss_function = nn.NLLLoss()\n",
    "    optimizer = optim.SGD(model.parameters(), lr=0.1)\n",
    "    p = 0\n",
    "    for epoch in range(2):  \n",
    "        for i, rev in enumerate(train):\n",
    "            # Step 1. Remember that Pytorch accumulates gradients.\n",
    "            # We need to clear them out before each instance\n",
    "            model.zero_grad()\n",
    "            # Step 2. Get our inputs ready for the network, that is, turn them into\n",
    "            # Tensors of word indices.\n",
    "            bow_rev = make_bow_vector(rev, vocab)\n",
    "            target = torch.tensor([sentiment[i]])\n",
    "            target = target.to(\"cuda\")\n",
    "            bow_rev = bow_rev.to(\"cuda\")\n",
    "            # Step 3. Run our forward pass.\n",
    "            predict = model(bow_rev) #bow_rev\n",
    "            \n",
    "            loss = loss_function(m(predict), target)\n",
    "            loss.backward()\n",
    "            optimizer.step()\n",
    "            if i % 500 == 0:\n",
    "                p+=10\n",
    "                #print(\"loss:\", loss.item())\n",
    "                #print(p,\"% ...\")\n",
    "    return model\n",
    "#train_lr(lr, word_sents, train_sent, vocab)\n"
   ]
  },
  {
   "cell_type": "markdown",
   "id": "caroline-thickness",
   "metadata": {},
   "source": [
    "### Prediction functions"
   ]
  },
  {
   "cell_type": "code",
   "execution_count": 81,
   "id": "freelance-gnome",
   "metadata": {},
   "outputs": [],
   "source": [
    "def lrbow_preds(model, test_data, size=500):\n",
    "    m = nn.LogSoftmax(dim=1)\n",
    "    preds = list()\n",
    "    for rev in test_data[:size]:\n",
    "        with torch.no_grad():\n",
    "            inp = make_bow_vector(rev, vocab)\n",
    "            inp = inp.to(\"cuda\")\n",
    "            out = model(inp)\n",
    "            probs = torch.exp(m(out))\n",
    "            preds.append(torch.argmax(probs, dim=1)[0].item())\n",
    "    return preds\n",
    "\n",
    "def lrtf_preds(model, test_data, size=500):\n",
    "    m = nn.LogSoftmax(dim=1)\n",
    "    preds = list()\n",
    "    for rev in test_data[:size]:\n",
    "        with torch.no_grad():\n",
    "            rev = rev.to(\"cuda\")\n",
    "            out = model(rev)\n",
    "            probs = torch.exp(m(out.unsqueeze(0)))\n",
    "            preds.append(torch.argmax(probs, dim=1)[0].item())\n",
    "    return preds\n",
    "\n",
    "\n",
    "def lstm_preds(model, test_data, size=500):\n",
    "    m = nn.LogSoftmax(dim=1)\n",
    "    preds = list()\n",
    "    for rev in test_data[:size]:\n",
    "        with torch.no_grad():\n",
    "            rev = rev.to(\"cuda\")\n",
    "            out = model(rev)\n",
    "            probs = torch.exp(m(out))\n",
    "            preds.append(torch.argmax(probs, dim=1)[0].item())\n",
    "    return preds\n",
    "\n",
    "def net_preds(model, test_data, size=500):\n",
    "    \n",
    "\n",
    "def lrbow_acc(golds, preds, size=500):\n",
    "    golds = golds.astype(int)\n",
    "    score = accuracy_score(golds[:size], preds)\n",
    "    cm = confusion_matrix(golds[:size], preds)\n",
    "    disp = ConfusionMatrixDisplay(confusion_matrix=cm, display_labels=[0,1])\n",
    "    disp.plot()\n",
    "    return score"
   ]
  },
  {
   "cell_type": "code",
   "execution_count": null,
   "id": "acquired-wildlife",
   "metadata": {},
   "outputs": [],
   "source": [
    "m = nn.LogSoftmax(dim=1)\n",
    "\n",
    "beg = 9500\n",
    "end = 10000\n",
    "preds = list()\n",
    "for rev in word_sents[beg:end]:\n",
    "    with torch.no_grad():\n",
    "        inp = make_bow_vector(rev, vocab)\n",
    "        inp = inp.to(\"cuda\")\n",
    "        out = lr(inp)\n",
    "        probs = torch.exp(m(out))\n",
    "        preds.append(torch.argmax(probs, dim=1)[0].item())\n",
    "\n",
    "golds = train_sent[beg:end]\n",
    "preds\n",
    "golds = golds.astype(int)\n",
    "accuracy_score(golds, preds)\n",
    "cm = confusion_matrix(golds, preds)\n",
    "disp = ConfusionMatrixDisplay(confusion_matrix=cm, display_labels=[0,1])\n",
    "disp.plot()\n",
    "accuracy_score(golds, preds)"
   ]
  },
  {
   "cell_type": "markdown",
   "id": "infectious-champion",
   "metadata": {},
   "source": [
    "## TESTS"
   ]
  },
  {
   "cell_type": "code",
   "execution_count": 84,
   "id": "bound-concord",
   "metadata": {},
   "outputs": [],
   "source": [
    "x_bow5000_train, x_bow5000_test, y_bow5000_train, y_bow5000_test = train_test_split(word_sents, train_sent, test_size=0.90, random_state=42)\n",
    "x_bow10000_train, x_bow10000_test, y_bow10000_train, y_bow10000_test = train_test_split(word_sents, train_sent, test_size=0.8, random_state=42)\n",
    "x_bow25000_train, x_bow25000_test, y_bow25000_train, y_bow25000_test = train_test_split(word_sents, train_sent, test_size=0.5, random_state=42)\n",
    "\n",
    "x_lstm5000_train, x_lstm5000_test, y_lstm5000_train, y_lstm5000_test = train_test_split(train_rev, train_sent, test_size=0.90, random_state=42)\n",
    "x_lstm10000_train, x_lstm10000_test, y_lstm10000_train, y_lstm10000_test = train_test_split(train_rev, train_sent, test_size=0.8, random_state=42)\n",
    "x_lstm25000_train, x_lstm25000_test, y_lstm25000_train, y_lstm25000_test = train_test_split(train_rev, train_sent, test_size=0.5, random_state=42)\n",
    "\n",
    "\n"
   ]
  },
  {
   "cell_type": "code",
   "execution_count": 50,
   "id": "inclusive-france",
   "metadata": {},
   "outputs": [],
   "source": [
    "x_tfidf5000_train = X[:5000]\n",
    "y_tfidf5000_train = train_sent[:5000]\n",
    "x_tfidf5000_test = X[25000:25500]\n",
    "y_tfidf5000_test = train_sent[25000:25500]\n",
    "\n",
    "x_tfidf10000_train = X[:10000]\n",
    "y_tfidf10000_train = train_sent[:10000]\n",
    "x_tfidf10000_test = X[25000:25500]\n",
    "y_tfidf10000_test = train_sent[25000:25500]\n",
    "\n",
    "x_tfidf25000_train = X[:25000]\n",
    "y_tfidf25000_train = train_sent[:25000]\n",
    "x_tfidf25000_test = X[25000:25500]\n",
    "y_tfidf25000_test = train_sent[25000:25500]"
   ]
  },
  {
   "cell_type": "markdown",
   "id": "express-intake",
   "metadata": {},
   "source": [
    "### LR BOW TESTER"
   ]
  },
  {
   "cell_type": "code",
   "execution_count": 42,
   "id": "ongoing-resolution",
   "metadata": {},
   "outputs": [
    {
     "name": "stdout",
     "output_type": "stream",
     "text": [
      "bow_5k time: 19.17\n",
      "bow_5k acc: 0.766\n",
      "#############################\n",
      "bow_10k time: 38.20\n",
      "bow_10k acc: 0.81\n",
      "#############################\n",
      "bow_25k time: 95.91\n",
      "bow_25k acc: 0.84\n"
     ]
    },
    {
     "data": {
      "image/png": "[encoded data removed]",
      "text/plain": [
       "<Figure size 432x288 with 2 Axes>"
      ]
     },
     "metadata": {
      "needs_background": "light"
     },
     "output_type": "display_data"
    },
    {
     "data": {
      "image/png": "[encoded data removed]",
      "text/plain": [
       "<Figure size 432x288 with 2 Axes>"
      ]
     },
     "metadata": {
      "needs_background": "light"
     },
     "output_type": "display_data"
    },
    {
     "data": {
      "image/png": "[encoded data removed]",
      "text/plain": [
       "<Figure size 432x288 with 2 Axes>"
      ]
     },
     "metadata": {
      "needs_background": "light"
     },
     "output_type": "display_data"
    }
   ],
   "source": [
    "# split data - ALL data\n",
    "# call all models, get preds and golds\n",
    "# collect and check acc and times\n",
    "\n",
    "#time each model and report accuracy on unseen data\n",
    "import time\n",
    "start_5000 = time.time()\n",
    "lr_bow_5000 = lr(2, len(vocab))\n",
    "lr_bow_5000 = lr_bow_5000.to(\"cuda\")\n",
    "lr_bow_5000 = train_lr_bow(lr_bow_5000, x_bow5000_train, y_bow5000_train, vocab)\n",
    "lr_bow_time_5000 = \"{:.2f}\".format(time.time() - start_5000)\n",
    "print(\"bow_5k time:\",lr_bow_time_5000)\n",
    "preds_5000 = lrbow_preds(lr_bow_5000, x_bow5000_test)\n",
    "#TODO ACC LOOP AVG 10 on 500 random\n",
    "lr_bow_5000_acc = lrbow_acc(y_bow5000_test, preds_5000)\n",
    "print(\"bow_5k acc:\",lr_bow_5000_acc)\n",
    "print(\"#############################\")\n",
    "\n",
    "start_10000 = time.time()\n",
    "lr_bow_10000 = lr(2, len(vocab))\n",
    "lr_bow_10000 = lr_bow_10000.to(\"cuda\")\n",
    "lr_bow_10000 = train_lr_bow(lr_bow_10000, x_bow10000_train, y_bow10000_train, vocab)\n",
    "lr_bow_time_10000 = \"{:.2f}\".format(time.time() - start_10000)\n",
    "print(\"bow_10k time:\",lr_bow_time_10000)\n",
    "preds_10000 = lrbow_preds(lr_bow_10000, x_bow10000_test)\n",
    "lr_bow_10000_acc = lrbow_acc(y_bow10000_test, preds_10000)\n",
    "print(\"bow_10k acc:\",lr_bow_10000_acc)\n",
    "print(\"#############################\")\n",
    "\n",
    "start_25000 = time.time()\n",
    "lr_bow_25000 = lr(2, len(vocab))\n",
    "lr_bow_25000 = lr_bow_25000.to(\"cuda\")\n",
    "lr_bow_25000 = train_lr_bow(lr_bow_25000, x_bow25000_train, y_bow25000_train, vocab)\n",
    "lr_bow_time_25000 = \"{:.2f}\".format(time.time() - start_25000)\n",
    "print(\"bow_25k time:\",lr_bow_time_25000)\n",
    "preds_25000 = lrbow_preds(lr_bow_25000, x_bow25000_test)\n",
    "lr_bow_25000_acc = lrbow_acc(y_bow25000_test, preds_25000)\n",
    "print(\"bow_25k acc:\",lr_bow_25000_acc)"
   ]
  },
  {
   "cell_type": "markdown",
   "id": "collaborative-cyprus",
   "metadata": {},
   "source": [
    "### LR TFIDF TESTER"
   ]
  },
  {
   "cell_type": "code",
   "execution_count": 74,
   "id": "spare-binary",
   "metadata": {},
   "outputs": [
    {
     "name": "stdout",
     "output_type": "stream",
     "text": [
      "tfidf_5k time: 3.43\n",
      "tfidf_5k acc: 0.734\n",
      "#############################\n",
      "tfidf_10k time: 7.98\n",
      "tfidf_10k acc: 0.86\n",
      "#############################\n",
      "tfidf_25k time: 20.38\n",
      "tfidf_5k acc: 0.87\n",
      "#############################\n"
     ]
    },
    {
     "data": {
      "image/png": "[encoded data removed]",
      "text/plain": [
       "<Figure size 432x288 with 2 Axes>"
      ]
     },
     "metadata": {
      "needs_background": "light"
     },
     "output_type": "display_data"
    },
    {
     "data": {
      "image/png": "[encoded data removed]",
      "text/plain": [
       "<Figure size 432x288 with 2 Axes>"
      ]
     },
     "metadata": {
      "needs_background": "light"
     },
     "output_type": "display_data"
    },
    {
     "data": {
      "image/png": "[encoded data removed]",
      "text/plain": [
       "<Figure size 432x288 with 2 Axes>"
      ]
     },
     "metadata": {
      "needs_background": "light"
     },
     "output_type": "display_data"
    }
   ],
   "source": [
    "# split data - ALL data\n",
    "# call all models, get preds and golds\n",
    "# collect and check acc and times\n",
    "\n",
    "#time each model and report accuracy on unseen data\n",
    "import time\n",
    "start_5000 = time.time()\n",
    "lr_tfidf_5000 = lr(2, 84183)\n",
    "lr_tfidf_5000 = lr_tfidf_5000.to(\"cuda\")\n",
    "lr_tfidf_5000 = train_lr_tf(lr_tfidf_5000, x_tfidf5000_train, y_tfidf5000_train)\n",
    "lr_tfidf_time_5000 = \"{:.2f}\".format(time.time() - start_5000)\n",
    "print(\"tfidf_5k time:\",lr_tfidf_time_5000)\n",
    "tfidf_preds_5000 = lrtf_preds(lr_tfidf_5000, x_tfidf5000_test)\n",
    "#TODO ACC LOOP AVG 10 on 500 random\n",
    "lr_tfidf_5000_acc = lrbow_acc(y_tfidf5000_test, tfidf_preds_5000)\n",
    "print(\"tfidf_5k acc:\",lr_tfidf_5000_acc)\n",
    "print(\"#############################\")\n",
    "\n",
    "start_10000 = time.time()\n",
    "lr_tfidf_10000 = lr(2, 84183)\n",
    "lr_tfidf_10000 = lr_tfidf_10000.to(\"cuda\")\n",
    "lr_tfidf_10000 = train_lr_tf(lr_tfidf_10000, x_tfidf10000_train, y_tfidf10000_train)\n",
    "lr_tfidf_time_10000 = \"{:.2f}\".format(time.time() - start_10000)\n",
    "print(\"tfidf_10k time:\",lr_tfidf_time_10000)\n",
    "tfidf_preds_10000 = lrtf_preds(lr_tfidf_10000, x_tfidf10000_test)\n",
    "#TODO ACC LOOP AVG 10 on 500 random\n",
    "lr_tfidf_10000_acc = lrbow_acc(y_tfidf10000_test, tfidf_preds_10000)\n",
    "print(\"tfidf_10k acc:\",lr_tfidf_10000_acc)\n",
    "print(\"#############################\")\n",
    "\n",
    "start_25000 = time.time()\n",
    "lr_tfidf_25000 = lr(2, 84183)\n",
    "lr_tfidf_25000 = lr_tfidf_25000.to(\"cuda\")\n",
    "lr_tfidf_25000 = train_lr_tf(lr_tfidf_25000, x_tfidf25000_train, y_tfidf25000_train)\n",
    "lr_tfidf_time_25000 = \"{:.2f}\".format(time.time() - start_25000)\n",
    "print(\"tfidf_25k time:\",lr_tfidf_time_25000)\n",
    "tfidf_preds_25000 = lrtf_preds(lr_tfidf_25000, x_tfidf25000_test)\n",
    "#TODO ACC LOOP AVG 10 on 500 random\n",
    "lr_tfidf_25000_acc = lrbow_acc(y_tfidf25000_test, tfidf_preds_25000)\n",
    "print(\"tfidf_25k acc:\",lr_tfidf_25000_acc)\n",
    "print(\"#############################\")"
   ]
  },
  {
   "cell_type": "markdown",
   "id": "inclusive-integration",
   "metadata": {},
   "source": [
    "### LSTM TEST"
   ]
  },
  {
   "cell_type": "code",
   "execution_count": 90,
   "id": "serial-stanford",
   "metadata": {},
   "outputs": [
    {
     "name": "stdout",
     "output_type": "stream",
     "text": [
      "lstm_5k time: 142.49\n",
      "lstm_5k acc: 0.82\n",
      "#############################\n",
      "lstm_5k time: 435.13\n",
      "lstm_5k acc: 0.854\n",
      "#############################\n",
      "lstm_25k time: 739.92\n",
      "lstm_5k acc: 0.882\n",
      "#############################\n"
     ]
    },
    {
     "data": {
      "image/png": "[encoded data removed]",
      "text/plain": [
       "<Figure size 432x288 with 2 Axes>"
      ]
     },
     "metadata": {
      "needs_background": "light"
     },
     "output_type": "display_data"
    },
    {
     "data": {
      "image/png": "[encoded data removed]",
      "text/plain": [
       "<Figure size 432x288 with 2 Axes>"
      ]
     },
     "metadata": {
      "needs_background": "light"
     },
     "output_type": "display_data"
    },
    {
     "data": {
      "image/png": "[encoded data removed]",
      "text/plain": [
       "<Figure size 432x288 with 2 Axes>"
      ]
     },
     "metadata": {
      "needs_background": "light"
     },
     "output_type": "display_data"
    }
   ],
   "source": [
    "# split data - ALL data\n",
    "# call all models, get preds and golds\n",
    "# collect and check acc and times\n",
    "\n",
    "#time each model and report accuracy on unseen data\n",
    "import time\n",
    "start_5000 = time.time()\n",
    "lstm_5000 = LSTMclassifier()\n",
    "lstm_5000 = lstm_5000.to(\"cuda\")\n",
    "lstm_5000 = train_lstm(lstm_5000, x_lstm5000_train, y_lstm5000_train)\n",
    "lstm_time_5000 = \"{:.2f}\".format(time.time() - start_5000)\n",
    "print(\"lstm_5k time:\",lstm_time_5000)\n",
    "lstm_preds_5000 = lstm_preds(lstm_5000, x_lstm5000_test)\n",
    "#TODO ACC LOOP AVG 10 on 500 random\n",
    "lstm_5000_acc = lrbow_acc(y_lstm5000_test, lstm_preds_5000)\n",
    "print(\"lstm_5k acc:\",lstm_5000_acc)\n",
    "print(\"#############################\")\n",
    "\n",
    "start_10000 = time.time()\n",
    "lstm_10000 = LSTMclassifier()\n",
    "lstm_10000 = lstm_10000.to(\"cuda\")\n",
    "lstm_10000 = train_lstm(lstm_10000, x_lstm10000_train, y_lstm10000_train)\n",
    "lstm_time_10000 = \"{:.2f}\".format(time.time() - start_5000)\n",
    "print(\"lstm_5k time:\",lstm_time_10000)\n",
    "lstm_preds_10000 = lstm_preds(lstm_10000, x_lstm10000_test)\n",
    "#TODO ACC LOOP AVG 10 on 500 random\n",
    "lstm_10000_acc = lrbow_acc(y_lstm10000_test, lstm_preds_10000)\n",
    "print(\"lstm_5k acc:\",lstm_10000_acc)\n",
    "print(\"#############################\")\n",
    "\n",
    "start_25000 = time.time()\n",
    "lstm_25000 = LSTMclassifier()\n",
    "lstm_25000 = lstm_25000.to(\"cuda\")\n",
    "lstm_25000 = train_lstm(lstm_25000, x_lstm25000_train, y_lstm25000_train)\n",
    "lstm_time_25000 = \"{:.2f}\".format(time.time() - start_25000)\n",
    "print(\"lstm_25k time:\",lstm_time_25000)\n",
    "lstm_preds_25000 = lstm_preds(lstm_25000, x_lstm25000_test)\n",
    "#TODO ACC LOOP AVG 10 on 500 random\n",
    "lstm_25000_acc = lrbow_acc(y_lstm25000_test, lstm_preds_25000)\n",
    "print(\"lstm_5k acc:\",lstm_25000_acc)\n",
    "print(\"#############################\")"
   ]
  },
  {
   "cell_type": "code",
   "execution_count": null,
   "id": "proud-america",
   "metadata": {},
   "outputs": [],
   "source": [
    "\n",
    "\n",
    "net_5000\n",
    "net_10000\n",
    "net_25000"
   ]
  }
 ],
 "metadata": {
  "kernelspec": {
   "display_name": "tf-gpu",
   "language": "python",
   "name": "tf-gpu"
  },
  "language_info": {
   "codemirror_mode": {
    "name": "ipython",
    "version": 3
   },
   "file_extension": ".py",
   "mimetype": "text/x-python",
   "name": "python",
   "nbconvert_exporter": "python",
   "pygments_lexer": "ipython3",
   "version": "3.8.5"
  }
 },
 "nbformat": 4,
 "nbformat_minor": 5
}
